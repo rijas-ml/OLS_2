{
 "cells": [
  {
   "cell_type": "code",
   "execution_count": null,
   "id": "a450f4c3-3453-42b6-a4a1-f6189a97a8de",
   "metadata": {},
   "outputs": [],
   "source": [
    "hours_studied = np.array([5, 10, 4, 8, 15, 9, 16, 11, 6, 14])\n",
    "attendance = np.array([70, 80, 60, 75, 90, 85, 95, 88, 72, 92])\n",
    "final_score = np.array([65, 75, 60, 70, 88, 78, 92, 82, 68, 90])"
   ]
  }
 ],
 "metadata": {
  "kernelspec": {
   "display_name": "Python 3 (ipykernel)",
   "language": "python",
   "name": "python3"
  },
  "language_info": {
   "codemirror_mode": {
    "name": "ipython",
    "version": 3
   },
   "file_extension": ".py",
   "mimetype": "text/x-python",
   "name": "python",
   "nbconvert_exporter": "python",
   "pygments_lexer": "ipython3",
   "version": "3.12.7"
  }
 },
 "nbformat": 4,
 "nbformat_minor": 5
}
